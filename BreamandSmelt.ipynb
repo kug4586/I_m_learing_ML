{
  "nbformat": 4,
  "nbformat_minor": 0,
  "metadata": {
    "colab": {
      "name": "BreamandSmelt",
      "provenance": [],
      "collapsed_sections": [],
      "toc_visible": true,
      "authorship_tag": "ABX9TyMI4dKQpM7RuM0aAyhdtbF0",
      "include_colab_link": true
    },
    "kernelspec": {
      "name": "python3",
      "display_name": "Python 3"
    },
    "language_info": {
      "name": "python"
    }
  },
  "cells": [
    {
      "cell_type": "markdown",
      "metadata": {
        "id": "view-in-github",
        "colab_type": "text"
      },
      "source": [
        "<a href=\"https://colab.research.google.com/github/kug4586/I_m_learing_ML/blob/main/BreamandSmelt.ipynb\" target=\"_parent\"><img src=\"https://colab.research.google.com/assets/colab-badge.svg\" alt=\"Open In Colab\"/></a>"
      ]
    },
    {
      "cell_type": "markdown",
      "source": [
        "# 도미와 빙어 구분하기\n",
        "\n",
        "\n",
        "종류: 도미, 곤들매기, 농어, 강꼬치고기, 로치, 빙어, 송어\n"
      ],
      "metadata": {
        "id": "xKqVZ7x882O2"
      }
    },
    {
      "cell_type": "markdown",
      "source": [
        "## 1. 데이터 준비하기\n",
        "> 데이터는 [여기](https://gist.github.com/rickiepark)서 가저옴"
      ],
      "metadata": {
        "id": "iGOX_7qD9UN4"
      }
    },
    {
      "cell_type": "markdown",
      "source": [
        "### (1) 도미"
      ],
      "metadata": {
        "id": "v0SyDEKuAhs6"
      }
    },
    {
      "cell_type": "code",
      "source": [
        "# 도미 데이터 준비\n",
        "bream_length = [25.4, 26.3, 26.5, 29.0, 29.0, 29.7, 29.7, 30.0, 30.0, 30.7, 31.0, 31.0, \n",
        "                31.5, 32.0, 32.0, 32.0, 33.0, 33.0, 33.5, 33.5, 34.0, 34.0, 34.5, 35.0, \n",
        "                35.0, 35.0, 35.0, 36.0, 36.0, 37.0, 38.5, 38.5, 39.5, 41.0, 41.0]\n",
        "bream_weight = [242.0, 290.0, 340.0, 363.0, 430.0, 450.0, 500.0, 390.0, 450.0, 500.0, 475.0, 500.0, \n",
        "                500.0, 340.0, 600.0, 600.0, 700.0, 700.0, 610.0, 650.0, 575.0, 685.0, 620.0, 680.0, \n",
        "                700.0, 725.0, 720.0, 714.0, 850.0, 1000.0, 920.0, 955.0, 925.0, 975.0, 950.0]"
      ],
      "metadata": {
        "id": "c9CoZ2KA7LZ3"
      },
      "execution_count": 1,
      "outputs": []
    },
    {
      "cell_type": "code",
      "source": [
        "# matplotlib를 써서 그래프 그리기\n",
        "import matplotlib.pyplot as plt\n",
        "\n",
        "plt.xlabel('length')\n",
        "plt.ylabel('weight')\n",
        "plt.show()"
      ],
      "metadata": {
        "id": "l7w8co2D-HZb",
        "colab": {
          "base_uri": "https://localhost:8080/",
          "height": 283
        },
        "outputId": "4c97add8-23c5-4f72-fa5d-3093529b07f2"
      },
      "execution_count": 2,
      "outputs": [
        {
          "output_type": "display_data",
          "data": {
            "image/png": "[encoded data removed]",
            "text/plain": [
              "<Figure size 432x288 with 1 Axes>"
            ]
          },
          "metadata": {
            "needs_background": "light"
          }
        }
      ]
    },
    {
      "cell_type": "markdown",
      "source": [
        "### (2) 빙어"
      ],
      "metadata": {
        "id": "Ex1wxLvM--FU"
      }
    },
    {
      "cell_type": "code",
      "source": [
        "# 빙어 데이터 준비\n",
        "smelt_length = [9.8, 10.5, 10.6, 11.0, 11.2, 11.3, 11.8, 11.8, 12.0, 12.2, 12.4, 13.0, 14.3, 15.0]\n",
        "smelt_weight = [6.7, 7.5, 7.0, 9.7, 9.8, 8.7, 10.0, 9.9, 9.8, 12.2, 13.4, 12.2, 19.7, 19.9]"
      ],
      "metadata": {
        "id": "fxiicolc-wQN"
      },
      "execution_count": 3,
      "outputs": []
    },
    {
      "cell_type": "code",
      "source": [
        "# matplotlib를 써서 두 물고기 데이터를 그래프로 표시\n",
        "import matplotlib.pyplot as plt\n",
        "\n",
        "plt.scatter(bream_length, bream_weight)\n",
        "plt.scatter(smelt_length, smelt_weight)\n",
        "plt.xlabel('length')\n",
        "plt.ylabel('weight')\n",
        "plt.show()\n",
        "\n",
        "# 주황색이 빙어, 파란색이 도미"
      ],
      "metadata": {
        "colab": {
          "base_uri": "https://localhost:8080/",
          "height": 279
        },
        "id": "1iaT25td_hUW",
        "outputId": "e7ea51d1-ff58-4a4f-ed1e-29249602f479"
      },
      "execution_count": 4,
      "outputs": [
        {
          "output_type": "display_data",
          "data": {
            "image/png": "[encoded data removed]",
            "text/plain": [
              "<Figure size 432x288 with 1 Axes>"
            ]
          },
          "metadata": {
            "needs_background": "light"
          }
        }
      ]
    },
    {
      "cell_type": "markdown",
      "source": [
        "## 2. 구분하기\n",
        "k - 최근접 이웃(k-Nearest neighbors) 알고리즘을 써서 구분"
      ],
      "metadata": {
        "id": "fRR8tedQAOCt"
      }
    },
    {
      "cell_type": "code",
      "source": [
        "# 두 생선 데이터 합치기\n",
        "length = bream_length + smelt_length\n",
        "weight = bream_weight + smelt_weight\n",
        "\n",
        "# 2차원 배열로 변형 : zip()\n",
        "fish_data = [[l,w] for l,w in zip(length,weight)]"
      ],
      "metadata": {
        "id": "EDBtTYJC_pVz"
      },
      "execution_count": 5,
      "outputs": []
    },
    {
      "cell_type": "code",
      "source": [
        "# 정답 레이블 만들기\n",
        "fish_target = [1]*35 + [0]*14   # 정답 레이블을 이렇게 만드는건 우리가 순서대로 입력했기 때문"
      ],
      "metadata": {
        "id": "IAlD6uCLBmeD"
      },
      "execution_count": 6,
      "outputs": []
    },
    {
      "cell_type": "code",
      "source": [
        "# 사이킷런의 KNeighborsClassifier 로드\n",
        "from sklearn.neighbors import KNeighborsClassifier\n",
        "\n",
        "kn = KNeighborsClassifier()"
      ],
      "metadata": {
        "id": "oiU_1c9ACK6e"
      },
      "execution_count": 7,
      "outputs": []
    },
    {
      "cell_type": "code",
      "source": [
        "# 모델 훈련\n",
        "# (데이터, 정답)\n",
        "kn.fit(fish_data, fish_target)\n",
        "\n",
        "# 모델 평가 : 0~1 사이의 실수 반환\n",
        "# (데이터, 정답)\n",
        "kn.score(fish_data, fish_target)"
      ],
      "metadata": {
        "colab": {
          "base_uri": "https://localhost:8080/"
        },
        "id": "arsmV6c-Cj-R",
        "outputId": "59296ce5-67d3-4c96-93a5-a0070e51c208"
      },
      "execution_count": 8,
      "outputs": [
        {
          "output_type": "execute_result",
          "data": {
            "text/plain": [
              "1.0"
            ]
          },
          "metadata": {},
          "execution_count": 8
        }
      ]
    },
    {
      "cell_type": "code",
      "source": [
        "# 새로운 데이터 예측\n",
        "kn.predict([[30, 600]])"
      ],
      "metadata": {
        "colab": {
          "base_uri": "https://localhost:8080/"
        },
        "id": "64FVjIXbzUt5",
        "outputId": "049b7888-9ddf-4ce2-f643-ed6ffde09186"
      },
      "execution_count": 10,
      "outputs": [
        {
          "output_type": "execute_result",
          "data": {
            "text/plain": [
              "array([1])"
            ]
          },
          "metadata": {},
          "execution_count": 10
        }
      ]
    },
    {
      "cell_type": "code",
      "source": [
        "# KNeighborsClasifier에 대하여\n",
        "# _fit_X 속성 = fish_data\n",
        "# _y = fish_target\n",
        "print(kn._fit_X)\n",
        "print(kn._y)"
      ],
      "metadata": {
        "id": "LIRK-hz90BhH"
      },
      "execution_count": null,
      "outputs": []
    },
    {
      "cell_type": "code",
      "source": [
        "# 이 알고리즘으로 예측할 때, 참고할 데이터 수 변경\n",
        "kn49 = KNeighborsClassifier(n_neighbors=49) # 49개의 데이터 참고\n",
        "kn49.fit(fish_data, fish_target)\n",
        "kn49.score(fish_data, fish_target)"
      ],
      "metadata": {
        "colab": {
          "base_uri": "https://localhost:8080/"
        },
        "id": "d8l88vaa0nKP",
        "outputId": "0b1cf4de-d6ac-49f6-8302-5dcfacc68d0d"
      },
      "execution_count": 15,
      "outputs": [
        {
          "output_type": "execute_result",
          "data": {
            "text/plain": [
              "0.7142857142857143"
            ]
          },
          "metadata": {},
          "execution_count": 15
        }
      ]
    },
    {
      "cell_type": "code",
      "source": [
        "print(35/49)"
      ],
      "metadata": {
        "colab": {
          "base_uri": "https://localhost:8080/"
        },
        "id": "m37VeB-_1ioE",
        "outputId": "ba56e754-c90b-49c6-f266-fb1338eb279a"
      },
      "execution_count": 17,
      "outputs": [
        {
          "output_type": "stream",
          "name": "stdout",
          "text": [
            "0.7142857142857143\n"
          ]
        }
      ]
    },
    {
      "cell_type": "markdown",
      "source": [
        "## 3. 오류 개선\n",
        "모델을 제대로 평가하려면,\n",
        "\n",
        "훈련용 데이터와 평가용 데이터가 따로 있어야 한다."
      ],
      "metadata": {
        "id": "9lrdigYQ5pxN"
      }
    },
    {
      "cell_type": "code",
      "source": [
        "kn = KNeighborsClassifier()"
      ],
      "metadata": {
        "id": "pT9ZOGp07otc"
      },
      "execution_count": 19,
      "outputs": []
    },
    {
      "cell_type": "code",
      "source": [
        "# 리스트의 인덱스(index)와 슬라이싱(slicing)\n",
        "print(fish_data[4])\n",
        "print(fish_data[:5])"
      ],
      "metadata": {
        "colab": {
          "base_uri": "https://localhost:8080/"
        },
        "id": "MyK_1XIi5_g8",
        "outputId": "34bd4a47-f1be-45c6-b1be-dacb149b7b84"
      },
      "execution_count": 18,
      "outputs": [
        {
          "output_type": "stream",
          "name": "stdout",
          "text": [
            "[29.0, 430.0]\n",
            "[[25.4, 242.0], [26.3, 290.0], [26.5, 340.0], [29.0, 363.0], [29.0, 430.0]]\n"
          ]
        }
      ]
    },
    {
      "cell_type": "code",
      "source": [
        "# 데이터 나누기\n",
        "# 잘못된 방법 : 인덱스 34를 기준으로 나누면, 훈련 데이터는 도미만, 평가 데이터는 빙어만 있다.\n",
        "train_input = fish_data[:35]\n",
        "train_target = fish_target[:35]\n",
        "test_input = fish_data[35:]\n",
        "test_target = fish_target[35:]\n",
        "\n",
        "kn.fit(train_input, train_target)\n",
        "kn.score(test_input, test_target)"
      ],
      "metadata": {
        "colab": {
          "base_uri": "https://localhost:8080/"
        },
        "id": "MgYclOki6jyG",
        "outputId": "277053c9-fb01-4584-d46e-b6d91c0029f4"
      },
      "execution_count": 22,
      "outputs": [
        {
          "output_type": "execute_result",
          "data": {
            "text/plain": [
              "0.0"
            ]
          },
          "metadata": {},
          "execution_count": 22
        }
      ]
    },
    {
      "cell_type": "markdown",
      "source": [
        "### * 넘파이 numpy\n",
        "대표적인 파이썬 배열 라이브러리"
      ],
      "metadata": {
        "id": "O6y6rVLE8Muj"
      }
    },
    {
      "cell_type": "code",
      "source": [
        "import numpy as np\n",
        "\n",
        "input_arr = np.array(fish_data)\n",
        "target_arr = np.array(fish_target)\n",
        "print(input_arr.shape)"
      ],
      "metadata": {
        "colab": {
          "base_uri": "https://localhost:8080/"
        },
        "id": "C2oEYy578I5o",
        "outputId": "46f6ace4-0b33-4244-ac44-979596dca068"
      },
      "execution_count": 24,
      "outputs": [
        {
          "output_type": "stream",
          "name": "stdout",
          "text": [
            "(49, 2)\n"
          ]
        }
      ]
    },
    {
      "cell_type": "code",
      "source": [
        "# !주의!\n",
        "# 배열을 섞을 때, (데이터 - 정답)이 같이 섞여야 한다.\n",
        "# 안 그럼, 도미 데이터의 정답이 빙어로 될지도...\n",
        "\n",
        "np.random.seed(42) # 일정한 결과를 얻기 위해\n",
        "index = np.arange(49) # 0 ~ 49-1 까지의 정수로 이루어진 배열\n",
        "np.random.shuffle(index) # 섞기\n",
        "print(index)"
      ],
      "metadata": {
        "colab": {
          "base_uri": "https://localhost:8080/"
        },
        "id": "uvHS3lx_9F0M",
        "outputId": "bd7c2043-6418-4e21-a2ee-9dfb5e9f5bea"
      },
      "execution_count": 26,
      "outputs": [
        {
          "output_type": "stream",
          "name": "stdout",
          "text": [
            "[13 45 47 44 17 27 26 25 31 19 12  4 34  8  3  6 40 41 46 15  9 16 24 33\n",
            " 30  0 43 32  5 29 11 36  1 21  2 37 35 23 39 10 22 18 48 20  7 42 14 28\n",
            " 38]\n"
          ]
        }
      ]
    },
    {
      "cell_type": "code",
      "source": [
        "# 배열 인덱싱 : 여러개의 원소를 출력\n",
        "# ex. input_arr[ [1,3,7] ] = [ 2번째 데이터, 4번째 데이터, 8번째 데이터 ]\n",
        "train_input = input_arr[index[:35]]\n",
        "train_target = target_arr[index[:35]]\n",
        "\n",
        "print(input_arr[13], train_input[0])"
      ],
      "metadata": {
        "colab": {
          "base_uri": "https://localhost:8080/"
        },
        "id": "s4UkR61p-P0T",
        "outputId": "f449349a-8823-4545-f9d2-f5bc8f047373"
      },
      "execution_count": 27,
      "outputs": [
        {
          "output_type": "stream",
          "name": "stdout",
          "text": [
            "[ 32. 340.] [ 32. 340.]\n"
          ]
        }
      ]
    },
    {
      "cell_type": "code",
      "source": [
        "test_input = input_arr[index[35:]]\n",
        "test_target = target_arr[index[35:]]"
      ],
      "metadata": {
        "id": "kqrh_0N8_i2w"
      },
      "execution_count": 28,
      "outputs": []
    },
    {
      "cell_type": "code",
      "source": [
        "# 데이터셋 확인\n",
        "# 주황색 = 평가 / 파란색 = 훈련\n",
        "plt.scatter(train_input[:,0], train_input[:,1])\n",
        "plt.scatter(test_input[:,0], test_input[:,1])\n",
        "plt.xlabel('length')\n",
        "plt.ylabel('weight')\n",
        "plt.show()"
      ],
      "metadata": {
        "colab": {
          "base_uri": "https://localhost:8080/",
          "height": 279
        },
        "id": "rWM9Euzp_uhQ",
        "outputId": "7ff800a8-2cc8-4cfa-9a89-dade245b10d0"
      },
      "execution_count": 30,
      "outputs": [
        {
          "output_type": "display_data",
          "data": {
            "image/png": "[encoded data removed]",
            "text/plain": [
              "<Figure size 432x288 with 1 Axes>"
            ]
          },
          "metadata": {
            "needs_background": "light"
          }
        }
      ]
    },
    {
      "cell_type": "code",
      "source": [
        "kn = kn.fit(train_input,train_target)\n",
        "print(kn.score(test_input, test_target))\n",
        "# 테스트 데이터로 예측한 결과 = 정답\n",
        "print(kn.predict(test_input))\n",
        "print(test_target)"
      ],
      "metadata": {
        "colab": {
          "base_uri": "https://localhost:8080/"
        },
        "id": "SgtRyNeBAn86",
        "outputId": "cd926f84-19de-41f1-fcbe-b4f243aab95d"
      },
      "execution_count": 35,
      "outputs": [
        {
          "output_type": "stream",
          "name": "stdout",
          "text": [
            "1.0\n",
            "[0 0 1 0 1 1 1 0 1 1 0 1 1 0]\n",
            "[0 0 1 0 1 1 1 0 1 1 0 1 1 0]\n"
          ]
        }
      ]
    }
  ]
}