{
  "nbformat": 4,
  "nbformat_minor": 0,
  "metadata": {
    "colab": {
      "name": "BreamAndSmelt2",
      "provenance": [],
      "toc_visible": true,
      "authorship_tag": "ABX9TyNmJH5Ja5LHafm6Q6BDyPkc",
      "include_colab_link": true
    },
    "kernelspec": {
      "name": "python3",
      "display_name": "Python 3"
    },
    "language_info": {
      "name": "python"
    }
  },
  "cells": [
    {
      "cell_type": "markdown",
      "metadata": {
        "id": "view-in-github",
        "colab_type": "text"
      },
      "source": [
        "<a href=\"https://colab.research.google.com/github/kug4586/I_m_learing_ML/blob/main/BreamAndSmelt2.ipynb\" target=\"_parent\"><img src=\"https://colab.research.google.com/assets/colab-badge.svg\" alt=\"Open In Colab\"/></a>"
      ]
    },
    {
      "cell_type": "markdown",
      "source": [
        "# 도미와 빙어 구분하기 2\n",
        "with 데이터 전처리"
      ],
      "metadata": {
        "id": "9qDJY8OWCV2C"
      }
    },
    {
      "cell_type": "markdown",
      "source": [
        "## 0. 사전 준비"
      ],
      "metadata": {
        "id": "h-RpgqJ5CrCK"
      }
    },
    {
      "cell_type": "code",
      "execution_count": null,
      "metadata": {
        "id": "BZPVcTq9CDGe"
      },
      "outputs": [],
      "source": [
        "import numpy as np\n",
        "\n",
        "fish_length = [25.4, 26.3, 26.5, 29.0, 29.0, 29.7, 29.7, 30.0, 30.0, 30.7, 31.0, 31.0, \n",
        "                31.5, 32.0, 32.0, 32.0, 33.0, 33.0, 33.5, 33.5, 34.0, 34.0, 34.5, 35.0, \n",
        "                35.0, 35.0, 35.0, 36.0, 36.0, 37.0, 38.5, 38.5, 39.5, 41.0, 41.0, 9.8, \n",
        "                10.5, 10.6, 11.0, 11.2, 11.3, 11.8, 11.8, 12.0, 12.2, 12.4, 13.0, 14.3, 15.0]\n",
        "fish_weight = [242.0, 290.0, 340.0, 363.0, 430.0, 450.0, 500.0, 390.0, 450.0, 500.0, 475.0, 500.0, \n",
        "                500.0, 340.0, 600.0, 600.0, 700.0, 700.0, 610.0, 650.0, 575.0, 685.0, 620.0, 680.0, \n",
        "                700.0, 725.0, 720.0, 714.0, 850.0, 1000.0, 920.0, 955.0, 925.0, 975.0, 950.0, 6.7, \n",
        "                7.5, 7.0, 9.7, 9.8, 8.7, 10.0, 9.9, 9.8, 12.2, 13.4, 12.2, 19.7, 19.9]"
      ]
    },
    {
      "cell_type": "code",
      "source": [
        "# column_stack() : 각각의 배열을 열로 취급하고 붙임\n",
        "# 반환값은 튜플로 전달\n",
        "# 튜플(tuple) : 수정하지 못하는 배열\n",
        "np.column_stack(([1,2,3], [4,5,6]))"
      ],
      "metadata": {
        "colab": {
          "base_uri": "https://localhost:8080/"
        },
        "id": "zfwTORCND-2L",
        "outputId": "aaa5ddb2-1794-4b51-dc3b-0c7dcbdb0877"
      },
      "execution_count": null,
      "outputs": [
        {
          "output_type": "execute_result",
          "data": {
            "text/plain": [
              "array([[1, 4],\n",
              "       [2, 5],\n",
              "       [3, 6]])"
            ]
          },
          "metadata": {},
          "execution_count": 2
        }
      ]
    },
    {
      "cell_type": "code",
      "source": [
        "fish_data = np.column_stack((fish_length, fish_weight))\n",
        "print(fish_data[:5])"
      ],
      "metadata": {
        "colab": {
          "base_uri": "https://localhost:8080/"
        },
        "id": "aW1r2FJiEkWB",
        "outputId": "114b9e81-3417-4584-f7cc-73301b34e8b5"
      },
      "execution_count": null,
      "outputs": [
        {
          "output_type": "stream",
          "name": "stdout",
          "text": [
            "[[ 25.4 242. ]\n",
            " [ 26.3 290. ]\n",
            " [ 26.5 340. ]\n",
            " [ 29.  363. ]\n",
            " [ 29.  430. ]]\n"
          ]
        }
      ]
    },
    {
      "cell_type": "code",
      "source": [
        "# np.ones() : 원소가 모두 1인 배열을 생성\n",
        "# np.zeros() : 원소가 모두 0인 배열을 생성\n",
        "# np.concatenate() : () 안의 배열을 이어붙임. 반화값은 튜플\n",
        "fish_target = np.concatenate((np.ones(35), np.zeros(14)))\n",
        "print(fish_target)"
      ],
      "metadata": {
        "colab": {
          "base_uri": "https://localhost:8080/"
        },
        "id": "b3Oj69C4E5_G",
        "outputId": "656128e2-b60d-42e3-b0c4-f6bfa23cf9f1"
      },
      "execution_count": null,
      "outputs": [
        {
          "output_type": "stream",
          "name": "stdout",
          "text": [
            "[1. 1. 1. 1. 1. 1. 1. 1. 1. 1. 1. 1. 1. 1. 1. 1. 1. 1. 1. 1. 1. 1. 1. 1.\n",
            " 1. 1. 1. 1. 1. 1. 1. 1. 1. 1. 1. 0. 0. 0. 0. 0. 0. 0. 0. 0. 0. 0. 0. 0.\n",
            " 0.]\n"
          ]
        }
      ]
    },
    {
      "cell_type": "markdown",
      "source": [
        "## 1. 데이터셋 준비하기"
      ],
      "metadata": {
        "id": "xIcEucZ_F6Qy"
      }
    },
    {
      "cell_type": "code",
      "source": [
        "# 데이터셋을 훈련용, 테스트용으로 나눠주는 함수\n",
        "# 기본적으로 (train : test) = (3 : 1)\n",
        "from sklearn.model_selection import train_test_split\n",
        "\n",
        "# stratify : 전달된 배열의 원소 비율에 맞게 데이터셋을 나눔\n",
        "train_input, test_input, train_target, test_target = train_test_split(fish_data, fish_target, stratify=fish_target, random_state=42)\n",
        "print(train_input.shape, test_input.shape)\n",
        "print(train_target.shape, test_target.shape)\n",
        "print(test_target)"
      ],
      "metadata": {
        "colab": {
          "base_uri": "https://localhost:8080/"
        },
        "id": "XgWROmNZFrcP",
        "outputId": "c9fbffc8-d45a-49d8-f9ba-63fdc9ef95e1"
      },
      "execution_count": null,
      "outputs": [
        {
          "output_type": "stream",
          "name": "stdout",
          "text": [
            "(36, 2) (13, 2)\n",
            "(36,) (13,)\n",
            "[0. 0. 1. 0. 1. 0. 1. 1. 1. 1. 1. 1. 1.]\n"
          ]
        }
      ]
    },
    {
      "cell_type": "markdown",
      "source": [
        "## 2. 모델 훈련"
      ],
      "metadata": {
        "id": "vjw5N_sfoi-t"
      }
    },
    {
      "cell_type": "code",
      "source": [
        "from sklearn.neighbors import KNeighborsClassifier\n",
        "kn = KNeighborsClassifier()\n",
        "kn.fit(train_input, train_target)\n",
        "kn.score(test_input, test_target)"
      ],
      "metadata": {
        "colab": {
          "base_uri": "https://localhost:8080/"
        },
        "id": "DDB5wSp3oeS7",
        "outputId": "1fec1058-e23e-4bb3-9cad-afd50a58d65d"
      },
      "execution_count": null,
      "outputs": [
        {
          "output_type": "execute_result",
          "data": {
            "text/plain": [
              "1.0"
            ]
          },
          "metadata": {},
          "execution_count": 6
        }
      ]
    },
    {
      "cell_type": "code",
      "source": [
        "# 도미 데이터\n",
        "print(kn.predict([[25,150]]))"
      ],
      "metadata": {
        "colab": {
          "base_uri": "https://localhost:8080/"
        },
        "id": "Zd1TYY1opMsn",
        "outputId": "70c0348d-0b9e-4667-9307-8913145a817b"
      },
      "execution_count": null,
      "outputs": [
        {
          "output_type": "stream",
          "name": "stdout",
          "text": [
            "[0.]\n"
          ]
        }
      ]
    },
    {
      "cell_type": "markdown",
      "source": [
        "### 오류 확인하기"
      ],
      "metadata": {
        "id": "Z-Y23z6bqM2G"
      }
    },
    {
      "cell_type": "code",
      "source": [
        "# 결과 출력해보기\n",
        "import matplotlib.pyplot as plt\n",
        "plt.scatter(train_input[:,0], train_input[:,1])\n",
        "plt.scatter(25,150, marker='^') # 삼각형\n",
        "plt.xlabel('lenght')\n",
        "plt.ylabel('weight')\n",
        "plt.show()"
      ],
      "metadata": {
        "colab": {
          "base_uri": "https://localhost:8080/",
          "height": 279
        },
        "id": "t3N4627hpU8C",
        "outputId": "11c50bb6-38d4-452f-e57b-69a668947188"
      },
      "execution_count": null,
      "outputs": [
        {
          "output_type": "display_data",
          "data": {
            "image/png": "[encoded data removed]",
            "text/plain": [
              "<Figure size 432x288 with 1 Axes>"
            ]
          },
          "metadata": {
            "needs_background": "light"
          }
        }
      ]
    },
    {
      "cell_type": "code",
      "source": [
        "distances, indexes = kn.kneighbors([[25,150]])\n",
        "\n",
        "plt.scatter(train_input[:,0], train_input[:,1])\n",
        "plt.scatter(25,150, marker='^')\n",
        "plt.scatter(train_input[indexes,0], train_input[indexes,1], marker='D') # 마름모\n",
        "plt.xlabel('lenght')\n",
        "plt.ylabel('weight')\n",
        "plt.show()"
      ],
      "metadata": {
        "colab": {
          "base_uri": "https://localhost:8080/",
          "height": 279
        },
        "id": "gvnDY9lMp6Xe",
        "outputId": "a6d9b5fa-6f0b-49a1-b978-e60e3e722b4b"
      },
      "execution_count": null,
      "outputs": [
        {
          "output_type": "display_data",
          "data": {
            "image/png": "[encoded data removed]",
            "text/plain": [
              "<Figure size 432x288 with 1 Axes>"
            ]
          },
          "metadata": {
            "needs_background": "light"
          }
        }
      ]
    },
    {
      "cell_type": "code",
      "source": [
        "print(train_input[indexes])\n",
        "print(train_target[indexes])\n",
        "print(distances)"
      ],
      "metadata": {
        "colab": {
          "base_uri": "https://localhost:8080/"
        },
        "id": "WsuDynIGq-E2",
        "outputId": "e79e44b8-4ec8-41c7-8a72-5be24c20528c"
      },
      "execution_count": null,
      "outputs": [
        {
          "output_type": "stream",
          "name": "stdout",
          "text": [
            "[[[ 25.4 242. ]\n",
            "  [ 15.   19.9]\n",
            "  [ 14.3  19.7]\n",
            "  [ 13.   12.2]\n",
            "  [ 12.2  12.2]]]\n",
            "[[1. 0. 0. 0. 0.]]\n",
            "[[ 92.00086956 130.48375378 130.73859415 138.32150953 138.39320793]]\n"
          ]
        }
      ]
    },
    {
      "cell_type": "markdown",
      "source": [
        "### 이런 결과의 이유\n",
        "- x축의 범위 = [0,50]\n",
        "- y축의 범위 = [0,1000]"
      ],
      "metadata": {
        "id": "qQD72GjMrCoD"
      }
    },
    {
      "cell_type": "code",
      "source": [
        "plt.scatter(train_input[:,0], train_input[:,1])\n",
        "plt.scatter(25,150, marker='^')\n",
        "plt.scatter(train_input[indexes,0], train_input[indexes,1], marker='D')\n",
        "plt.xlim((0,1000)) # x축 범위를 [0,1000]으로\n",
        "plt.xlabel('lenght')\n",
        "plt.ylabel('weight')\n",
        "plt.show()"
      ],
      "metadata": {
        "colab": {
          "base_uri": "https://localhost:8080/",
          "height": 279
        },
        "id": "QEqHJDnHsPIZ",
        "outputId": "0d685db7-fc45-4a62-c958-c530d8c3454d"
      },
      "execution_count": null,
      "outputs": [
        {
          "output_type": "display_data",
          "data": {
            "image/png": "[encoded data removed]",
            "text/plain": [
              "<Figure size 432x288 with 1 Axes>"
            ]
          },
          "metadata": {
            "needs_background": "light"
          }
        }
      ]
    },
    {
      "cell_type": "markdown",
      "source": [
        "### 해결 (표준 점수)\n",
        "각 특성값이 평균에서 표준편차의 몇 배 떨어져있는지 나타내는 것"
      ],
      "metadata": {
        "id": "RUXPslHbvhFM"
      }
    },
    {
      "cell_type": "code",
      "source": [
        "mean = np.mean(train_input, axis=0)\n",
        "std = np.std(train_input, axis=0)\n",
        "print(mean, std)"
      ],
      "metadata": {
        "colab": {
          "base_uri": "https://localhost:8080/"
        },
        "id": "HI7leM-xstSW",
        "outputId": "d821e85a-3b86-4940-a909-68328be9d433"
      },
      "execution_count": null,
      "outputs": [
        {
          "output_type": "stream",
          "name": "stdout",
          "text": [
            "[ 27.29722222 454.09722222] [  9.98244253 323.29893931]\n"
          ]
        }
      ]
    },
    {
      "cell_type": "code",
      "source": [
        "train_scaled = (train_input - mean) / std"
      ],
      "metadata": {
        "id": "MCn6o1dQwKdh"
      },
      "execution_count": null,
      "outputs": []
    },
    {
      "cell_type": "code",
      "source": [
        "new = ([25,150] - mean) / std\n",
        "plt.scatter(train_scaled[:,0], train_scaled[:,1])\n",
        "plt.scatter(new[0], new[1], marker='^')\n",
        "plt.xlabel('length')\n",
        "plt.ylabel('weight')\n",
        "plt.show()"
      ],
      "metadata": {
        "colab": {
          "base_uri": "https://localhost:8080/",
          "height": 279
        },
        "id": "sMAY7s9DwhN4",
        "outputId": "d2b255c7-cd47-46a5-dccc-8dbbbbadb225"
      },
      "execution_count": null,
      "outputs": [
        {
          "output_type": "display_data",
          "data": {
            "image/png": "[encoded data removed]",
            "text/plain": [
              "<Figure size 432x288 with 1 Axes>"
            ]
          },
          "metadata": {
            "needs_background": "light"
          }
        }
      ]
    },
    {
      "cell_type": "code",
      "source": [
        "kn.fit(train_scaled, train_target)"
      ],
      "metadata": {
        "colab": {
          "base_uri": "https://localhost:8080/"
        },
        "id": "pd4Kb42jxBZe",
        "outputId": "c7faf802-7132-4574-ed1c-0638365f31dc"
      },
      "execution_count": null,
      "outputs": [
        {
          "output_type": "execute_result",
          "data": {
            "text/plain": [
              "KNeighborsClassifier()"
            ]
          },
          "metadata": {},
          "execution_count": 20
        }
      ]
    },
    {
      "cell_type": "code",
      "source": [
        "test_scaled = (test_input - mean) / std\n",
        "kn.score(test_scaled, test_target)"
      ],
      "metadata": {
        "colab": {
          "base_uri": "https://localhost:8080/"
        },
        "id": "0b52dO7PxOy_",
        "outputId": "d5791c21-3b3e-4c40-e83c-9cf689f53109"
      },
      "execution_count": null,
      "outputs": [
        {
          "output_type": "execute_result",
          "data": {
            "text/plain": [
              "1.0"
            ]
          },
          "metadata": {},
          "execution_count": 22
        }
      ]
    },
    {
      "cell_type": "code",
      "source": [
        "print(kn.predict([new]))"
      ],
      "metadata": {
        "colab": {
          "base_uri": "https://localhost:8080/"
        },
        "id": "jqBnUmxtxXSP",
        "outputId": "c0cfecf7-6722-42ca-e8cf-c8d0c96e15de"
      },
      "execution_count": null,
      "outputs": [
        {
          "output_type": "stream",
          "name": "stdout",
          "text": [
            "[1.]\n"
          ]
        }
      ]
    },
    {
      "cell_type": "code",
      "source": [
        "distances, indexes = kn.kneighbors([new])\n",
        "plt.scatter(train_scaled[:,0], train_scaled[:,1])\n",
        "plt.scatter(new[0], new[1], marker='^')\n",
        "plt.scatter(train_scaled[indexes,0], train_scaled[indexes,1], marker='D')\n",
        "plt.xlabel('length')\n",
        "plt.ylabel('weight')\n",
        "plt.show()"
      ],
      "metadata": {
        "colab": {
          "base_uri": "https://localhost:8080/",
          "height": 279
        },
        "id": "hiLMBGlJxfD4",
        "outputId": "d7ed198a-a9ce-44f7-8b97-bd324d416953"
      },
      "execution_count": null,
      "outputs": [
        {
          "output_type": "display_data",
          "data": {
            "image/png": "[encoded data removed]",
            "text/plain": [
              "<Figure size 432x288 with 1 Axes>"
            ]
          },
          "metadata": {
            "needs_background": "light"
          }
        }
      ]
    }
  ]
}